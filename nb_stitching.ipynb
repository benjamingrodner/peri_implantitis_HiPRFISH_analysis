{
 "cells": [
  {
   "cell_type": "code",
   "execution_count": 8,
   "metadata": {},
   "outputs": [],
   "source": [
    "import os\n",
    "import numpy as np\n",
    "import pandas as pd\n",
    "import glob\n",
    "import re\n",
    "\n",
    "import m2stitch\n"
   ]
  },
  {
   "cell_type": "code",
   "execution_count": 2,
   "metadata": {},
   "outputs": [
    {
     "data": {
      "text/plain": [
       "'/local/workdir/bmg224/harvard_dental/manuscript/code'"
      ]
     },
     "execution_count": 2,
     "metadata": {},
     "output_type": "execute_result"
    }
   ],
   "source": [
    "cluster = \"\"\n",
    "workdir = \"/workdir/bmg224/harvard_dental/manuscript/code\"\n",
    "os.chdir(cluster + workdir)\n",
    "os.getcwd()"
   ]
  },
  {
   "cell_type": "code",
   "execution_count": 3,
   "metadata": {},
   "outputs": [],
   "source": [
    "out_dir = \"../outputs/segmentation_2024_03_07\"\n",
    "out_fmt_register = out_dir + \"/{date}/{sn}/registration\"\n",
    "reg_fmt = out_fmt_register + '/{sn}_registered_{m}.npy'\n",
    "tile_info_fmt = out_fmt_register + '/{sn}_tile_info.csv'\n"
   ]
  },
  {
   "cell_type": "code",
   "execution_count": 4,
   "metadata": {},
   "outputs": [],
   "source": [
    "sn = '2022_12_16_harvardwelch_patient_14_tooth_14_aspect_MB_depth_sub_fov_01'\n",
    "date = '2022_12_16'"
   ]
  },
  {
   "cell_type": "code",
   "execution_count": 15,
   "metadata": {},
   "outputs": [
    {
     "data": {
      "text/plain": [
       "['../outputs/segmentation_2024_03_07/2022_12_16/2022_12_16_harvardwelch_patient_14_tooth_14_aspect_MB_depth_sub_fov_01/registration/2022_12_16_harvardwelch_patient_14_tooth_14_aspect_MB_depth_sub_fov_01_registered_0.npy',\n",
       " '../outputs/segmentation_2024_03_07/2022_12_16/2022_12_16_harvardwelch_patient_14_tooth_14_aspect_MB_depth_sub_fov_01/registration/2022_12_16_harvardwelch_patient_14_tooth_14_aspect_MB_depth_sub_fov_01_registered_1.npy',\n",
       " '../outputs/segmentation_2024_03_07/2022_12_16/2022_12_16_harvardwelch_patient_14_tooth_14_aspect_MB_depth_sub_fov_01/registration/2022_12_16_harvardwelch_patient_14_tooth_14_aspect_MB_depth_sub_fov_01_registered_2.npy',\n",
       " '../outputs/segmentation_2024_03_07/2022_12_16/2022_12_16_harvardwelch_patient_14_tooth_14_aspect_MB_depth_sub_fov_01/registration/2022_12_16_harvardwelch_patient_14_tooth_14_aspect_MB_depth_sub_fov_01_registered_3.npy',\n",
       " '../outputs/segmentation_2024_03_07/2022_12_16/2022_12_16_harvardwelch_patient_14_tooth_14_aspect_MB_depth_sub_fov_01/registration/2022_12_16_harvardwelch_patient_14_tooth_14_aspect_MB_depth_sub_fov_01_registered_4.npy',\n",
       " '../outputs/segmentation_2024_03_07/2022_12_16/2022_12_16_harvardwelch_patient_14_tooth_14_aspect_MB_depth_sub_fov_01/registration/2022_12_16_harvardwelch_patient_14_tooth_14_aspect_MB_depth_sub_fov_01_registered_5.npy',\n",
       " '../outputs/segmentation_2024_03_07/2022_12_16/2022_12_16_harvardwelch_patient_14_tooth_14_aspect_MB_depth_sub_fov_01/registration/2022_12_16_harvardwelch_patient_14_tooth_14_aspect_MB_depth_sub_fov_01_registered_6.npy',\n",
       " '../outputs/segmentation_2024_03_07/2022_12_16/2022_12_16_harvardwelch_patient_14_tooth_14_aspect_MB_depth_sub_fov_01/registration/2022_12_16_harvardwelch_patient_14_tooth_14_aspect_MB_depth_sub_fov_01_registered_7.npy',\n",
       " '../outputs/segmentation_2024_03_07/2022_12_16/2022_12_16_harvardwelch_patient_14_tooth_14_aspect_MB_depth_sub_fov_01/registration/2022_12_16_harvardwelch_patient_14_tooth_14_aspect_MB_depth_sub_fov_01_registered_8.npy',\n",
       " '../outputs/segmentation_2024_03_07/2022_12_16/2022_12_16_harvardwelch_patient_14_tooth_14_aspect_MB_depth_sub_fov_01/registration/2022_12_16_harvardwelch_patient_14_tooth_14_aspect_MB_depth_sub_fov_01_registered_9.npy',\n",
       " '../outputs/segmentation_2024_03_07/2022_12_16/2022_12_16_harvardwelch_patient_14_tooth_14_aspect_MB_depth_sub_fov_01/registration/2022_12_16_harvardwelch_patient_14_tooth_14_aspect_MB_depth_sub_fov_01_registered_10.npy',\n",
       " '../outputs/segmentation_2024_03_07/2022_12_16/2022_12_16_harvardwelch_patient_14_tooth_14_aspect_MB_depth_sub_fov_01/registration/2022_12_16_harvardwelch_patient_14_tooth_14_aspect_MB_depth_sub_fov_01_registered_11.npy',\n",
       " '../outputs/segmentation_2024_03_07/2022_12_16/2022_12_16_harvardwelch_patient_14_tooth_14_aspect_MB_depth_sub_fov_01/registration/2022_12_16_harvardwelch_patient_14_tooth_14_aspect_MB_depth_sub_fov_01_registered_12.npy',\n",
       " '../outputs/segmentation_2024_03_07/2022_12_16/2022_12_16_harvardwelch_patient_14_tooth_14_aspect_MB_depth_sub_fov_01/registration/2022_12_16_harvardwelch_patient_14_tooth_14_aspect_MB_depth_sub_fov_01_registered_13.npy',\n",
       " '../outputs/segmentation_2024_03_07/2022_12_16/2022_12_16_harvardwelch_patient_14_tooth_14_aspect_MB_depth_sub_fov_01/registration/2022_12_16_harvardwelch_patient_14_tooth_14_aspect_MB_depth_sub_fov_01_registered_14.npy',\n",
       " '../outputs/segmentation_2024_03_07/2022_12_16/2022_12_16_harvardwelch_patient_14_tooth_14_aspect_MB_depth_sub_fov_01/registration/2022_12_16_harvardwelch_patient_14_tooth_14_aspect_MB_depth_sub_fov_01_registered_15.npy']"
      ]
     },
     "execution_count": 15,
     "metadata": {},
     "output_type": "execute_result"
    }
   ],
   "source": [
    "tile_info_fn = tile_info_fmt.format(date=date, sn=sn)\n",
    "reg_glob = reg_fmt.format(date=date, sn=sn, m='*')\n",
    "reg_fns = glob.glob(reg_glob)\n",
    "Ms = [int(re.search('(?<=_registered_)\\d+',fn)[0]) for fn in reg_fns]\n",
    "reg_fns = [x for _, x in sorted(zip(Ms, reg_fns))]\n",
    "reg_fns"
   ]
  },
  {
   "cell_type": "code",
   "execution_count": 16,
   "metadata": {},
   "outputs": [],
   "source": [
    "stack_sums = []\n",
    "for fn in reg_fns:\n",
    "    stack = np.load(fn)\n",
    "    stack_sums.append(np.sum(stack, axis=2))\n",
    "stack_sums = np.dstack(stack_sums).transpose(2,0,1)\n",
    "stack_sums.shape"
   ]
  },
  {
   "cell_type": "code",
   "execution_count": 22,
   "metadata": {},
   "outputs": [
    {
     "name": "stdout",
     "output_type": "stream",
     "text": [
      "4 4\n"
     ]
    }
   ],
   "source": [
    "tile_info = pd.read_csv(tile_info_fn)\n",
    "nrows = tile_info['rows'].values[0]\n",
    "ncols = tile_info['cols'].values[0]\n",
    "M = nrows * ncols\n",
    "print(nrows, ncols)\n"
   ]
  },
  {
   "cell_type": "code",
   "execution_count": 27,
   "metadata": {},
   "outputs": [
    {
     "data": {
      "text/plain": [
       "(array([0, 0, 0, 0, 1, 1, 1, 1, 2, 2, 2, 2, 3, 3, 3, 3]),\n",
       " array([0, 1, 2, 3, 0, 1, 2, 3, 0, 1, 2, 3, 0, 1, 2, 3]))"
      ]
     },
     "execution_count": 27,
     "metadata": {},
     "output_type": "execute_result"
    }
   ],
   "source": [
    "rows, cols"
   ]
  },
  {
   "cell_type": "code",
   "execution_count": 43,
   "metadata": {},
   "outputs": [],
   "source": [
    "stack_test = stack_sums[[0,1,3,4],:,:]"
   ]
  },
  {
   "cell_type": "code",
   "execution_count": 44,
   "metadata": {},
   "outputs": [
    {
     "name": "stderr",
     "output_type": "stream",
     "text": [
      "100%|██████████| 4/4 [00:12<00:00,  3.05s/it]\n",
      "100%|██████████| 4/4 [00:12<00:00,  3.14s/it]\n"
     ]
    },
    {
     "ename": "AssertionError",
     "evalue": "",
     "output_type": "error",
     "traceback": [
      "\u001b[0;31m---------------------------------------------------------------------------\u001b[0m",
      "\u001b[0;31mAssertionError\u001b[0m                            Traceback (most recent call last)",
      "Cell \u001b[0;32mIn[44], line 3\u001b[0m\n\u001b[1;32m      1\u001b[0m rows \u001b[38;5;241m=\u001b[39m [\u001b[38;5;241m0\u001b[39m,\u001b[38;5;241m0\u001b[39m,\u001b[38;5;241m1\u001b[39m,\u001b[38;5;241m1\u001b[39m]\n\u001b[1;32m      2\u001b[0m cols \u001b[38;5;241m=\u001b[39m [\u001b[38;5;241m0\u001b[39m,\u001b[38;5;241m1\u001b[39m,\u001b[38;5;241m0\u001b[39m,\u001b[38;5;241m1\u001b[39m]\n\u001b[0;32m----> 3\u001b[0m result_df, _ \u001b[38;5;241m=\u001b[39m \u001b[43mm2stitch\u001b[49m\u001b[38;5;241;43m.\u001b[39;49m\u001b[43mstitch_images\u001b[49m\u001b[43m(\u001b[49m\n\u001b[1;32m      4\u001b[0m \u001b[43m    \u001b[49m\u001b[43mstack_test\u001b[49m\u001b[43m,\u001b[49m\u001b[43m \u001b[49m\n\u001b[1;32m      5\u001b[0m \u001b[43m    \u001b[49m\u001b[43mrows\u001b[49m\u001b[43m,\u001b[49m\u001b[43m \u001b[49m\n\u001b[1;32m      6\u001b[0m \u001b[43m    \u001b[49m\u001b[43mcols\u001b[49m\u001b[43m,\u001b[49m\u001b[43m \u001b[49m\n\u001b[1;32m      7\u001b[0m \u001b[43m    \u001b[49m\u001b[43mpou\u001b[49m\u001b[38;5;241;43m=\u001b[39;49m\u001b[38;5;241;43m10\u001b[39;49m\u001b[43m,\u001b[49m\n\u001b[1;32m      8\u001b[0m \u001b[43m    \u001b[49m\u001b[43mncc_threshold\u001b[49m\u001b[38;5;241;43m=\u001b[39;49m\u001b[38;5;241;43m0.01\u001b[39;49m\u001b[43m,\u001b[49m\n\u001b[1;32m      9\u001b[0m \u001b[43m    \u001b[49m\u001b[43mrow_col_transpose\u001b[49m\u001b[38;5;241;43m=\u001b[39;49m\u001b[38;5;28;43;01mFalse\u001b[39;49;00m\u001b[43m,\u001b[49m\n\u001b[1;32m     10\u001b[0m \u001b[43m)\u001b[49m\n\u001b[1;32m     11\u001b[0m \u001b[38;5;28mprint\u001b[39m(result_df[\u001b[38;5;124m\"\u001b[39m\u001b[38;5;124my_pos\u001b[39m\u001b[38;5;124m\"\u001b[39m])\n\u001b[1;32m     13\u001b[0m \u001b[38;5;28mprint\u001b[39m(result_df[\u001b[38;5;124m\"\u001b[39m\u001b[38;5;124mx_pos\u001b[39m\u001b[38;5;124m\"\u001b[39m])\n",
      "File \u001b[0;32m~/miniconda3/envs/m2stitch/lib/python3.8/site-packages/m2stitch/stitching.py:249\u001b[0m, in \u001b[0;36mstitch_images\u001b[0;34m(images, rows, cols, position_indices, position_initial_guess, overlap_diff_threshold, pou, full_output, row_col_transpose, ncc_threshold)\u001b[0m\n\u001b[1;32m    246\u001b[0m r \u001b[38;5;241m=\u001b[39m np\u001b[38;5;241m.\u001b[39mmax(rs)\n\u001b[1;32m    248\u001b[0m grid \u001b[38;5;241m=\u001b[39m filter_by_repeatability(grid, r, ncc_threshold)\n\u001b[0;32m--> 249\u001b[0m grid \u001b[38;5;241m=\u001b[39m \u001b[43mreplace_invalid_translations\u001b[49m\u001b[43m(\u001b[49m\u001b[43mgrid\u001b[49m\u001b[43m)\u001b[49m\n\u001b[1;32m    251\u001b[0m grid \u001b[38;5;241m=\u001b[39m refine_translations(images, grid, r)\n\u001b[1;32m    253\u001b[0m tree \u001b[38;5;241m=\u001b[39m compute_maximum_spanning_tree(grid)\n",
      "File \u001b[0;32m~/miniconda3/envs/m2stitch/lib/python3.8/site-packages/m2stitch/_stage_model.py:200\u001b[0m, in \u001b[0;36mreplace_invalid_translations\u001b[0;34m(grid)\u001b[0m\n\u001b[1;32m    198\u001b[0m     grid\u001b[38;5;241m.\u001b[39mloc[isna, \u001b[38;5;124mf\u001b[39m\u001b[38;5;124m\"\u001b[39m\u001b[38;5;132;01m{\u001b[39;00mdirection\u001b[38;5;132;01m}\u001b[39;00m\u001b[38;5;124m_ncc_second\u001b[39m\u001b[38;5;124m\"\u001b[39m] \u001b[38;5;241m=\u001b[39m \u001b[38;5;241m-\u001b[39m\u001b[38;5;241m1\u001b[39m\n\u001b[1;32m    199\u001b[0m \u001b[38;5;28;01mfor\u001b[39;00m direction, xy \u001b[38;5;129;01min\u001b[39;00m itertools\u001b[38;5;241m.\u001b[39mproduct([\u001b[38;5;124m\"\u001b[39m\u001b[38;5;124mleft\u001b[39m\u001b[38;5;124m\"\u001b[39m, \u001b[38;5;124m\"\u001b[39m\u001b[38;5;124mtop\u001b[39m\u001b[38;5;124m\"\u001b[39m], [\u001b[38;5;124m\"\u001b[39m\u001b[38;5;124mx\u001b[39m\u001b[38;5;124m\"\u001b[39m, \u001b[38;5;124m\"\u001b[39m\u001b[38;5;124my\u001b[39m\u001b[38;5;124m\"\u001b[39m]):\n\u001b[0;32m--> 200\u001b[0m     \u001b[38;5;28;01massert\u001b[39;00m np\u001b[38;5;241m.\u001b[39mall(np\u001b[38;5;241m.\u001b[39misfinite(grid[\u001b[38;5;124mf\u001b[39m\u001b[38;5;124m\"\u001b[39m\u001b[38;5;132;01m{\u001b[39;00mdirection\u001b[38;5;132;01m}\u001b[39;00m\u001b[38;5;124m_\u001b[39m\u001b[38;5;132;01m{\u001b[39;00mxy\u001b[38;5;132;01m}\u001b[39;00m\u001b[38;5;124m_second\u001b[39m\u001b[38;5;124m\"\u001b[39m]))\n\u001b[1;32m    202\u001b[0m \u001b[38;5;28;01mreturn\u001b[39;00m grid\n",
      "\u001b[0;31mAssertionError\u001b[0m: "
     ]
    }
   ],
   "source": [
    "rows = [0,0,1,1]\n",
    "cols = [0,1,0,1]\n",
    "result_df, _ = m2stitch.stitch_images(\n",
    "    stack_test, \n",
    "    rows, \n",
    "    cols, \n",
    "    pou=10,\n",
    "    ncc_threshold=0.01,\n",
    "    row_col_transpose=False,\n",
    ")\n",
    "print(result_df[\"y_pos\"])\n",
    "\n",
    "print(result_df[\"x_pos\"])\n",
    "\n"
   ]
  },
  {
   "cell_type": "code",
   "execution_count": 35,
   "metadata": {},
   "outputs": [
    {
     "name": "stderr",
     "output_type": "stream",
     "text": [
      " 12%|█▎        | 2/16 [00:08<00:57,  4.13s/it]\n"
     ]
    },
    {
     "ename": "KeyboardInterrupt",
     "evalue": "",
     "output_type": "error",
     "traceback": [
      "\u001b[0;31m---------------------------------------------------------------------------\u001b[0m",
      "\u001b[0;31mKeyboardInterrupt\u001b[0m                         Traceback (most recent call last)",
      "Cell \u001b[0;32mIn[35], line 3\u001b[0m\n\u001b[1;32m      1\u001b[0m cols \u001b[38;5;241m=\u001b[39m np\u001b[38;5;241m.\u001b[39mtile(np\u001b[38;5;241m.\u001b[39marange(ncols), nrows)\n\u001b[1;32m      2\u001b[0m rows \u001b[38;5;241m=\u001b[39m np\u001b[38;5;241m.\u001b[39mrepeat(np\u001b[38;5;241m.\u001b[39marange(nrows), ncols)\n\u001b[0;32m----> 3\u001b[0m result_df, _ \u001b[38;5;241m=\u001b[39m \u001b[43mm2stitch\u001b[49m\u001b[38;5;241;43m.\u001b[39;49m\u001b[43mstitch_images\u001b[49m\u001b[43m(\u001b[49m\n\u001b[1;32m      4\u001b[0m \u001b[43m    \u001b[49m\u001b[43mstack_sums\u001b[49m\u001b[43m,\u001b[49m\u001b[43m \u001b[49m\n\u001b[1;32m      5\u001b[0m \u001b[43m    \u001b[49m\u001b[43mrows\u001b[49m\u001b[43m,\u001b[49m\u001b[43m \u001b[49m\n\u001b[1;32m      6\u001b[0m \u001b[43m    \u001b[49m\u001b[43mcols\u001b[49m\u001b[43m,\u001b[49m\u001b[43m \u001b[49m\n\u001b[1;32m      7\u001b[0m \u001b[43m    \u001b[49m\u001b[43mpou\u001b[49m\u001b[38;5;241;43m=\u001b[39;49m\u001b[38;5;241;43m10\u001b[39;49m\u001b[43m,\u001b[49m\n\u001b[1;32m      8\u001b[0m \u001b[43m    \u001b[49m\u001b[43mncc_threshold\u001b[49m\u001b[38;5;241;43m=\u001b[39;49m\u001b[38;5;241;43m0.1\u001b[39;49m\u001b[43m,\u001b[49m\n\u001b[1;32m      9\u001b[0m \u001b[43m    \u001b[49m\u001b[43mrow_col_transpose\u001b[49m\u001b[38;5;241;43m=\u001b[39;49m\u001b[38;5;28;43;01mFalse\u001b[39;49;00m\u001b[43m,\u001b[49m\n\u001b[1;32m     10\u001b[0m \u001b[43m)\u001b[49m\n\u001b[1;32m     12\u001b[0m \u001b[38;5;28mprint\u001b[39m(result_df[\u001b[38;5;124m\"\u001b[39m\u001b[38;5;124my_pos\u001b[39m\u001b[38;5;124m\"\u001b[39m])\n\u001b[1;32m     13\u001b[0m \u001b[38;5;66;03m# the absolute y (second last dim.) positions of the tiles\u001b[39;00m\n",
      "File \u001b[0;32m~/miniconda3/envs/m2stitch/lib/python3.8/site-packages/m2stitch/stitching.py:175\u001b[0m, in \u001b[0;36mstitch_images\u001b[0;34m(images, rows, cols, position_indices, position_initial_guess, overlap_diff_threshold, pou, full_output, row_col_transpose, ncc_threshold)\u001b[0m\n\u001b[1;32m    172\u001b[0m image1 \u001b[38;5;241m=\u001b[39m images[i1]\n\u001b[1;32m    173\u001b[0m image2 \u001b[38;5;241m=\u001b[39m images[i2]\n\u001b[0;32m--> 175\u001b[0m PCM \u001b[38;5;241m=\u001b[39m \u001b[43mpcm\u001b[49m\u001b[43m(\u001b[49m\u001b[43mimage1\u001b[49m\u001b[43m,\u001b[49m\u001b[43m \u001b[49m\u001b[43mimage2\u001b[49m\u001b[43m)\u001b[49m\u001b[38;5;241m.\u001b[39mreal\n\u001b[1;32m    176\u001b[0m \u001b[38;5;28;01mif\u001b[39;00m position_initial_guess \u001b[38;5;129;01mis\u001b[39;00m \u001b[38;5;129;01mnot\u001b[39;00m \u001b[38;5;28;01mNone\u001b[39;00m:\n\u001b[1;32m    178\u001b[0m     \u001b[38;5;28;01mdef\u001b[39;00m \u001b[38;5;21mget_lims\u001b[39m(dimension, size):\n",
      "File \u001b[0;32m~/miniconda3/envs/m2stitch/lib/python3.8/site-packages/m2stitch/_translation_computation.py:36\u001b[0m, in \u001b[0;36mpcm\u001b[0;34m(image1, image2)\u001b[0m\n\u001b[1;32m     34\u001b[0m F2 \u001b[38;5;241m=\u001b[39m np\u001b[38;5;241m.\u001b[39mfft\u001b[38;5;241m.\u001b[39mfft2(image2)\n\u001b[1;32m     35\u001b[0m FC \u001b[38;5;241m=\u001b[39m F1 \u001b[38;5;241m*\u001b[39m np\u001b[38;5;241m.\u001b[39mconjugate(F2)\n\u001b[0;32m---> 36\u001b[0m \u001b[38;5;28;01mreturn\u001b[39;00m \u001b[43mnp\u001b[49m\u001b[38;5;241;43m.\u001b[39;49m\u001b[43mfft\u001b[49m\u001b[38;5;241;43m.\u001b[39;49m\u001b[43mifft2\u001b[49m\u001b[43m(\u001b[49m\u001b[43mFC\u001b[49m\u001b[43m \u001b[49m\u001b[38;5;241;43m/\u001b[39;49m\u001b[43m \u001b[49m\u001b[43mnp\u001b[49m\u001b[38;5;241;43m.\u001b[39;49m\u001b[43mabs\u001b[49m\u001b[43m(\u001b[49m\u001b[43mFC\u001b[49m\u001b[43m)\u001b[49m\u001b[43m)\u001b[49m\u001b[38;5;241m.\u001b[39mreal\u001b[38;5;241m.\u001b[39mastype(np\u001b[38;5;241m.\u001b[39mfloat32)\n",
      "File \u001b[0;32m<__array_function__ internals>:200\u001b[0m, in \u001b[0;36mifft2\u001b[0;34m(*args, **kwargs)\u001b[0m\n",
      "File \u001b[0;32m~/miniconda3/envs/m2stitch/lib/python3.8/site-packages/numpy/fft/_pocketfft.py:1107\u001b[0m, in \u001b[0;36mifft2\u001b[0;34m(a, s, axes, norm)\u001b[0m\n\u001b[1;32m   1017\u001b[0m \u001b[38;5;129m@array_function_dispatch\u001b[39m(_fftn_dispatcher)\n\u001b[1;32m   1018\u001b[0m \u001b[38;5;28;01mdef\u001b[39;00m \u001b[38;5;21mifft2\u001b[39m(a, s\u001b[38;5;241m=\u001b[39m\u001b[38;5;28;01mNone\u001b[39;00m, axes\u001b[38;5;241m=\u001b[39m(\u001b[38;5;241m-\u001b[39m\u001b[38;5;241m2\u001b[39m, \u001b[38;5;241m-\u001b[39m\u001b[38;5;241m1\u001b[39m), norm\u001b[38;5;241m=\u001b[39m\u001b[38;5;28;01mNone\u001b[39;00m):\n\u001b[1;32m   1019\u001b[0m \u001b[38;5;250m    \u001b[39m\u001b[38;5;124;03m\"\"\"\u001b[39;00m\n\u001b[1;32m   1020\u001b[0m \u001b[38;5;124;03m    Compute the 2-dimensional inverse discrete Fourier Transform.\u001b[39;00m\n\u001b[1;32m   1021\u001b[0m \n\u001b[0;32m   (...)\u001b[0m\n\u001b[1;32m   1105\u001b[0m \n\u001b[1;32m   1106\u001b[0m \u001b[38;5;124;03m    \"\"\"\u001b[39;00m\n\u001b[0;32m-> 1107\u001b[0m     \u001b[38;5;28;01mreturn\u001b[39;00m \u001b[43m_raw_fftnd\u001b[49m\u001b[43m(\u001b[49m\u001b[43ma\u001b[49m\u001b[43m,\u001b[49m\u001b[43m \u001b[49m\u001b[43ms\u001b[49m\u001b[43m,\u001b[49m\u001b[43m \u001b[49m\u001b[43maxes\u001b[49m\u001b[43m,\u001b[49m\u001b[43m \u001b[49m\u001b[43mifft\u001b[49m\u001b[43m,\u001b[49m\u001b[43m \u001b[49m\u001b[43mnorm\u001b[49m\u001b[43m)\u001b[49m\n",
      "File \u001b[0;32m~/miniconda3/envs/m2stitch/lib/python3.8/site-packages/numpy/fft/_pocketfft.py:707\u001b[0m, in \u001b[0;36m_raw_fftnd\u001b[0;34m(a, s, axes, function, norm)\u001b[0m\n\u001b[1;32m    705\u001b[0m itl\u001b[38;5;241m.\u001b[39mreverse()\n\u001b[1;32m    706\u001b[0m \u001b[38;5;28;01mfor\u001b[39;00m ii \u001b[38;5;129;01min\u001b[39;00m itl:\n\u001b[0;32m--> 707\u001b[0m     a \u001b[38;5;241m=\u001b[39m \u001b[43mfunction\u001b[49m\u001b[43m(\u001b[49m\u001b[43ma\u001b[49m\u001b[43m,\u001b[49m\u001b[43m \u001b[49m\u001b[43mn\u001b[49m\u001b[38;5;241;43m=\u001b[39;49m\u001b[43ms\u001b[49m\u001b[43m[\u001b[49m\u001b[43mii\u001b[49m\u001b[43m]\u001b[49m\u001b[43m,\u001b[49m\u001b[43m \u001b[49m\u001b[43maxis\u001b[49m\u001b[38;5;241;43m=\u001b[39;49m\u001b[43maxes\u001b[49m\u001b[43m[\u001b[49m\u001b[43mii\u001b[49m\u001b[43m]\u001b[49m\u001b[43m,\u001b[49m\u001b[43m \u001b[49m\u001b[43mnorm\u001b[49m\u001b[38;5;241;43m=\u001b[39;49m\u001b[43mnorm\u001b[49m\u001b[43m)\u001b[49m\n\u001b[1;32m    708\u001b[0m \u001b[38;5;28;01mreturn\u001b[39;00m a\n",
      "File \u001b[0;32m<__array_function__ internals>:200\u001b[0m, in \u001b[0;36mifft\u001b[0;34m(*args, **kwargs)\u001b[0m\n",
      "File \u001b[0;32m~/miniconda3/envs/m2stitch/lib/python3.8/site-packages/numpy/fft/_pocketfft.py:316\u001b[0m, in \u001b[0;36mifft\u001b[0;34m(a, n, axis, norm)\u001b[0m\n\u001b[1;32m    314\u001b[0m     n \u001b[38;5;241m=\u001b[39m a\u001b[38;5;241m.\u001b[39mshape[axis]\n\u001b[1;32m    315\u001b[0m inv_norm \u001b[38;5;241m=\u001b[39m _get_backward_norm(n, norm)\n\u001b[0;32m--> 316\u001b[0m output \u001b[38;5;241m=\u001b[39m \u001b[43m_raw_fft\u001b[49m\u001b[43m(\u001b[49m\u001b[43ma\u001b[49m\u001b[43m,\u001b[49m\u001b[43m \u001b[49m\u001b[43mn\u001b[49m\u001b[43m,\u001b[49m\u001b[43m \u001b[49m\u001b[43maxis\u001b[49m\u001b[43m,\u001b[49m\u001b[43m \u001b[49m\u001b[38;5;28;43;01mFalse\u001b[39;49;00m\u001b[43m,\u001b[49m\u001b[43m \u001b[49m\u001b[38;5;28;43;01mFalse\u001b[39;49;00m\u001b[43m,\u001b[49m\u001b[43m \u001b[49m\u001b[43minv_norm\u001b[49m\u001b[43m)\u001b[49m\n\u001b[1;32m    317\u001b[0m \u001b[38;5;28;01mreturn\u001b[39;00m output\n",
      "File \u001b[0;32m~/miniconda3/envs/m2stitch/lib/python3.8/site-packages/numpy/fft/_pocketfft.py:70\u001b[0m, in \u001b[0;36m_raw_fft\u001b[0;34m(a, n, axis, is_real, is_forward, inv_norm)\u001b[0m\n\u001b[1;32m     67\u001b[0m         a \u001b[38;5;241m=\u001b[39m z\n\u001b[1;32m     69\u001b[0m \u001b[38;5;28;01mif\u001b[39;00m axis \u001b[38;5;241m==\u001b[39m a\u001b[38;5;241m.\u001b[39mndim\u001b[38;5;241m-\u001b[39m\u001b[38;5;241m1\u001b[39m:\n\u001b[0;32m---> 70\u001b[0m     r \u001b[38;5;241m=\u001b[39m \u001b[43mpfi\u001b[49m\u001b[38;5;241;43m.\u001b[39;49m\u001b[43mexecute\u001b[49m\u001b[43m(\u001b[49m\u001b[43ma\u001b[49m\u001b[43m,\u001b[49m\u001b[43m \u001b[49m\u001b[43mis_real\u001b[49m\u001b[43m,\u001b[49m\u001b[43m \u001b[49m\u001b[43mis_forward\u001b[49m\u001b[43m,\u001b[49m\u001b[43m \u001b[49m\u001b[43mfct\u001b[49m\u001b[43m)\u001b[49m\n\u001b[1;32m     71\u001b[0m \u001b[38;5;28;01melse\u001b[39;00m:\n\u001b[1;32m     72\u001b[0m     a \u001b[38;5;241m=\u001b[39m swapaxes(a, axis, \u001b[38;5;241m-\u001b[39m\u001b[38;5;241m1\u001b[39m)\n",
      "\u001b[0;31mKeyboardInterrupt\u001b[0m: "
     ]
    }
   ],
   "source": [
    "cols = np.tile(np.arange(ncols), nrows)\n",
    "rows = np.repeat(np.arange(nrows), ncols)\n",
    "result_df, _ = m2stitch.stitch_images(\n",
    "    stack_sums, \n",
    "    rows, \n",
    "    cols, \n",
    "    pou=10,\n",
    "    ncc_threshold=0.1,\n",
    "    row_col_transpose=False,\n",
    ")\n",
    "\n",
    "print(result_df[\"y_pos\"])\n",
    "# the absolute y (second last dim.) positions of the tiles\n",
    "print(result_df[\"x_pos\"])\n",
    "# the absolute x (last dim.) positions of the tiles\n",
    "\n",
    "# stitching example\n",
    "result_df[\"y_pos2\"] = result_df[\"y_pos\"] - result_df[\"y_pos\"].min()\n",
    "result_df[\"x_pos2\"] = result_df[\"x_pos\"] - result_df[\"x_pos\"].min()\n",
    "\n",
    "size_y = stack_sums.shape[1]\n",
    "size_x = stack_sums.shape[2]\n",
    "\n",
    "stitched_image_size = (\n",
    "    result_df[\"y_pos2\"].max() + size_y,\n",
    "    result_df[\"x_pos2\"].max() + size_x,\n",
    ")\n",
    "stitched_image = np.zeros_like(stack_sums, shape=stitched_image_size)\n",
    "for i, row in result_df.iterrows():\n",
    "    stitched_image[\n",
    "        row[\"y_pos2\"] : row[\"y_pos2\"] + size_y,\n",
    "        row[\"x_pos2\"] : row[\"x_pos2\"] + size_x,\n",
    "    ] = stack_sums[i]"
   ]
  },
  {
   "cell_type": "code",
   "execution_count": 25,
   "metadata": {},
   "outputs": [
    {
     "data": {
      "text/plain": [
       "(13452, 2195)"
      ]
     },
     "execution_count": 25,
     "metadata": {},
     "output_type": "execute_result"
    }
   ],
   "source": [
    "stitched_image.shape"
   ]
  },
  {
   "cell_type": "code",
   "execution_count": null,
   "metadata": {},
   "outputs": [],
   "source": []
  }
 ],
 "metadata": {
  "kernelspec": {
   "display_name": "Python 3 (ipykernel)",
   "language": "python",
   "name": "python3"
  },
  "language_info": {
   "codemirror_mode": {
    "name": "ipython",
    "version": 3
   },
   "file_extension": ".py",
   "mimetype": "text/x-python",
   "name": "python",
   "nbconvert_exporter": "python",
   "pygments_lexer": "ipython3",
   "version": "3.8.18"
  }
 },
 "nbformat": 4,
 "nbformat_minor": 2
}
