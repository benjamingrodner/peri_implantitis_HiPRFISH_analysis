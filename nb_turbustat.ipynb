{
 "cells": [
  {
   "cell_type": "markdown",
   "metadata": {},
   "source": [
    "# Power Spectrum"
   ]
  },
  {
   "cell_type": "markdown",
   "metadata": {},
   "source": [
    "imports"
   ]
  },
  {
   "cell_type": "code",
   "execution_count": null,
   "metadata": {},
   "outputs": [],
   "source": [
    "import os\n",
    "import re\n",
    "import gc\n",
    "import sys\n",
    "import glob\n",
    "import yaml\n",
    "import math\n",
    "from scipy import stats\n",
    "import numpy as np\n",
    "import pandas as pd\n",
    "from astropy.io import fits\n",
    "import aicspylibczi as aplc\n",
    "import matplotlib.pyplot as plt\n",
    "from collections import defaultdict\n",
    "from matplotlib_scalebar.scalebar import ScaleBar\n",
    "\n",
    "\n",
    "from turbustat.statistics import PowerSpectrum\n"
   ]
  },
  {
   "cell_type": "code",
   "execution_count": null,
   "metadata": {},
   "outputs": [],
   "source": [
    "%load_ext autoreload\n",
    "%autoreload 2\n",
    "functions_path = 'functions'\n",
    "\n",
    "sys.path.append(cluster + functions_path)\n",
    "\n",
    "import image_plots as ip"
   ]
  },
  {
   "cell_type": "code",
   "execution_count": null,
   "metadata": {},
   "outputs": [],
   "source": [
    "def get_resolution(fn, dim='X'):\n",
    "    czi = aplc.CziFile(fn)\n",
    "    for n in czi.meta.iter():\n",
    "        if 'Scaling' in n.tag:\n",
    "            if dim in n.tag:\n",
    "                resolution = float(n.text)\n",
    "    return resolution\n",
    "\n",
    "def _image_figure(dims, dpi=500):\n",
    "    fig = plt.figure(figsize=(dims[0], dims[1]))\n",
    "    ax = plt.Axes(fig, [0., 0., 1., 1.], )\n",
    "    # ax.set_axis_off()\n",
    "    fig.add_axes(ax)\n",
    "    return(fig, ax)\n",
    "\n",
    "def plot_image(\n",
    "            im, im_inches=5, cmap='inferno', clims=('min','max'), zoom_coords=(), scalebar_resolution=0,\n",
    "            axes_off=True, discrete=False, cbar_ori='horizontal', dpi=500,\n",
    "            norm=None\n",
    "        ):\n",
    "    s = im.shape\n",
    "    dims = (im_inches*s[1]/np.max(s), im_inches*s[0]/np.max(s))\n",
    "    fig, ax = _image_figure(dims, dpi=dpi)\n",
    "    im_ = im[~np.isnan(im)]\n",
    "    llim = np.min(im_) if clims[0]=='min' else clims[0]\n",
    "    ulim = np.max(im_) if clims[1]=='max' else clims[1]\n",
    "    clims = (llim, ulim)\n",
    "    if len(s) > 2:\n",
    "        ax.imshow(im, interpolation=\"none\")\n",
    "    else:\n",
    "        ax.imshow(im, cmap=cmap, clim=clims, interpolation=\"none\", norm=norm)\n",
    "    zc = zoom_coords if zoom_coords else (0,im.shape[0],0,im.shape[1])\n",
    "    ax.set_ylim(zc[1],zc[0])\n",
    "    ax.set_xlim(zc[2],zc[3])\n",
    "    if axes_off:\n",
    "        ax.set_axis_off()\n",
    "    if scalebar_resolution:\n",
    "        scalebar = ScaleBar(\n",
    "                scalebar_resolution, 'um', frameon = False,\n",
    "                color = 'white', box_color = 'white'\n",
    "            )\n",
    "        plt.gca().add_artist(scalebar)\n",
    "    cbar = []\n",
    "    fig2 = []\n",
    "    if len(s) == 2:\n",
    "        if cbar_ori == 'horizontal':\n",
    "            fig2 = plt.figure(figsize=(dims[0], dims[0]/10))\n",
    "        elif cbar_ori == 'vertical':\n",
    "            fig2 = plt.figure(figsize=(dims[1]/10, dims[1]))\n",
    "        if discrete:\n",
    "            vals = np.sort(np.unique(im))\n",
    "            vals = vals[~np.isnan(vals)]\n",
    "            vals = vals[(vals>=clims[0]) & (vals<=clims[1])]\n",
    "            cbar = get_discrete_colorbar(vals, cmap)\n",
    "        else:\n",
    "            image=plt.imshow(im, cmap=cmap, clim=clims, norm=norm)\n",
    "            plt.gca().set_visible(False)\n",
    "            cbar = plt.colorbar(image,orientation=cbar_ori)\n",
    "    return(fig, ax, [fig2, cbar])\n"
   ]
  },
  {
   "cell_type": "markdown",
   "metadata": {},
   "source": [
    "Get workdir"
   ]
  },
  {
   "cell_type": "code",
   "execution_count": null,
   "metadata": {},
   "outputs": [],
   "source": [
    "cluster = \"\"\n",
    "workdir = \"\"\n",
    "os.chdir(cluster + workdir)\n"
   ]
  },
  {
   "cell_type": "code",
   "execution_count": null,
   "metadata": {},
   "outputs": [],
   "source": [
    "os.getcwd()"
   ]
  },
  {
   "cell_type": "markdown",
   "metadata": {},
   "source": [
    "Get czi filenames"
   ]
  },
  {
   "cell_type": "code",
   "execution_count": null,
   "metadata": {},
   "outputs": [],
   "source": [
    "input_table_fn = \"input_table_all.csv\"\n",
    "input_table = pd.read_csv(input_table_fn)\n",
    "filenames = input_table[\"filenames\"]"
   ]
  },
  {
   "cell_type": "code",
   "execution_count": null,
   "metadata": {},
   "outputs": [],
   "source": [
    "dict_date_sn_fns = defaultdict(lambda: defaultdict(list))\n",
    "for fn in filenames:\n",
    "    bn = os.path.split(fn)[1]\n",
    "    date, bn = re.split(\"(?<=^\\d{4}_\\d{2}_\\d{2})_\", bn)\n",
    "    sn, ext = re.split(\"(?<=fov_\\d{2})\", bn)\n",
    "    dict_date_sn_fns[date][sn].append(fn)\n",
    "dict_date_sn_fns"
   ]
  },
  {
   "cell_type": "markdown",
   "metadata": {},
   "source": [
    "Get processed filename formats"
   ]
  },
  {
   "cell_type": "code",
   "execution_count": null,
   "metadata": {},
   "outputs": [],
   "source": [
    "out_dir = \"../outputs/{date}/{date}_{sn}\"\n",
    "out_fmt_classif = out_dir + \"/classif\"\n",
    "centroid_sciname_fmt = out_fmt_classif + \"/{date}_{sn}_centroid_sciname.csv\""
   ]
  },
  {
   "cell_type": "markdown",
   "metadata": {},
   "source": [
    "Get color dict"
   ]
  },
  {
   "cell_type": "code",
   "execution_count": null,
   "metadata": {},
   "outputs": [],
   "source": [
    "sciname_list = [\n",
    "    \"Corynebacterium\",\n",
    "    \"Actinomyces\",\n",
    "    \"Rothia\",\n",
    "    \"Capnocytophaga\",\n",
    "    \"Prevotella\",\n",
    "    \"Porphyromonas\",\n",
    "    \"Streptococcus\",\n",
    "    \"Gemella\",\n",
    "    \"Veillonella\",\n",
    "    \"Selenomonas\",\n",
    "    \"Lautropia\",\n",
    "    \"Neisseriaceae\",\n",
    "    \"Pasteurellaceae\",\n",
    "    \"Campylobacter\",\n",
    "    \"Fusobacterium\",\n",
    "    \"Leptotrichia\",\n",
    "    \"Treponema\",\n",
    "    \"TM7\",\n",
    "]\n",
    "colors = plt.get_cmap(\"tab20\").colors\n",
    "# colors = [c + (1,) for c in colors]\n",
    "dict_sciname_color = dict(zip(sciname_list, colors))\n",
    "dict_sciname_color[\"Neisseria\"] = dict_sciname_color[\"Neisseriaceae\"]\n",
    "dict_sciname_color[\"Saccharibacteria\"] = dict_sciname_color[\"TM7\"]\n",
    "dict_sciname_color[\"TM\"] = dict_sciname_color[\"TM7\"]"
   ]
  },
  {
   "cell_type": "markdown",
   "metadata": {},
   "source": [
    "## Test image"
   ]
  },
  {
   "cell_type": "code",
   "execution_count": null,
   "metadata": {},
   "outputs": [],
   "source": [
    "date = \"2023_02_08\"\n",
    "sn = \"hsdm_group_1_sample_12_fov_01\"\n",
    "\n",
    "centroid_sciname_fn = centroid_sciname_fmt.format(date=date, sn=sn)\n",
    "centroid_sciname = pd.read_csv(centroid_sciname_fn)\n",
    "coords = np.array([eval(c) for c in centroid_sciname[\"coord\"].values])\n",
    "scinames = centroid_sciname[\"sciname\"].values\n",
    "scn_unq = np.unique(scinames)\n"
   ]
  },
  {
   "cell_type": "markdown",
   "metadata": {},
   "source": [
    "### Veillonella"
   ]
  },
  {
   "cell_type": "markdown",
   "metadata": {},
   "source": [
    "Plot spot distribution"
   ]
  },
  {
   "cell_type": "code",
   "execution_count": null,
   "metadata": {},
   "outputs": [],
   "source": [
    "scn = 'Veillonella'\n",
    "\n",
    "col = dict_sciname_color[scn]\n",
    "spot_size = 1\n",
    "\n",
    "res_umpix = get_resolution(dict_date_sn_fns[date][sn][0]) * 10**6\n",
    "\n",
    "xlim = (0, np.max(coords[:, 1]))\n",
    "ylim = (0, np.max(coords[:, 0]))\n",
    "\n",
    "coords_scn = coords[scinames == scn]\n",
    "\n",
    "fig, ax = plt.subplots(figsize=(10,10))\n",
    "ax.scatter(coords_scn[:,1], coords_scn[:,0], s=spot_size, color=col)\n",
    "ax.set_xlim(xlim[0], xlim[1])\n",
    "ax.set_ylim(ylim[0], ylim[1])\n",
    "ax.patch.set_color('k')\n",
    "fig.patch.set_facecolor('k')\n",
    "ax.invert_yaxis()\n",
    "ax.set_aspect('equal')\n",
    "\n",
    "plt.axis('off')\n",
    "scalebar = ScaleBar(res_umpix, 'um', frameon = False, color = 'white', box_color = 'white')\n",
    "plt.gca().add_artist(scalebar)\n",
    "\n",
    "spatial_dir = out_dir + '/spatial_statistics'\n",
    "cl_size_dir = spatial_dir + '/power_spectrum'\n",
    "cluster_slope_fmt = cl_size_dir + '/plots/{date}_{sn}_scinames_{scn}_scatter.pdf'\n",
    "out_fn = cluster_slope_fmt.format(date=date, sn=sn, scn=scn)\n",
    "ip.check_dir(out_fn)\n",
    "ip.save_fig(out_fn, transp=False)\n"
   ]
  },
  {
   "cell_type": "markdown",
   "metadata": {},
   "source": [
    "Get density plot"
   ]
  },
  {
   "cell_type": "code",
   "execution_count": null,
   "metadata": {},
   "outputs": [],
   "source": [
    "radius_um = 10\n",
    "step_um = 5\n",
    "\n",
    "step = step_um / res_umpix\n",
    "radius = radius_um / res_umpix\n",
    "xs = np.arange(xlim[0],xlim[1], step)\n",
    "ys = np.arange(ylim[0],ylim[1], step)\n",
    "\n",
    "density_arr = np.zeros((len(rs), len(cs)))\n",
    "for j, x in enumerate(xs): \n",
    "    eboolx = (\n",
    "        (x > (xlim[0] + radius)) \n",
    "        * (x < (xlim[1] - radius))\n",
    "    )\n",
    "    if eboolx:\n",
    "        for i, y in enumerate(ys):\n",
    "            ebooly = (\n",
    "                (y > (ylim[0] + radius)) \n",
    "                * (y < (ylim[1] - radius))\n",
    "            )\n",
    "            if ebooly:\n",
    "                bools = (\n",
    "                    (coords_scn[:,1] > (x - radius))\n",
    "                    * (coords_scn[:,1] < (x + radius))\n",
    "                    * (coords_scn[:,0] > (y - radius))\n",
    "                    * (coords_scn[:,0] < (y + radius))\n",
    "                )\n",
    "                density_arr[i,j] = sum(bools) / (radius_um**2)\n"
   ]
  },
  {
   "cell_type": "code",
   "execution_count": null,
   "metadata": {},
   "outputs": [],
   "source": [
    "fig, ax, cbar = plot_image(\n",
    "    density_arr, cmap='inferno', im_inches=10, cbar_ori='vertical'\n",
    ")\n",
    "plt.figure(fig)\n",
    "spatial_dir = out_dir + '/spatial_statistics'\n",
    "cl_size_dir = spatial_dir + '/power_spectrum'\n",
    "cluster_slope_fmt = cl_size_dir + '/plots/{date}_{sn}_scinames_{scn}_density.png'\n",
    "out_fn = cluster_slope_fmt.format(date=date, sn=sn, scn=scn)\n",
    "ip.check_dir(out_fn)\n",
    "ip.save_fig(out_fn, transp=False)\n",
    "\n",
    "plt.figure(cbar[0])\n",
    "cluster_slope_fmt = cl_size_dir + '/plots/{date}_{sn}_scinames_{scn}_density_cbar.pdf'\n",
    "out_fn = cluster_slope_fmt.format(date=date, sn=sn, scn=scn)\n",
    "ip.check_dir(out_fn)\n",
    "ip.save_fig(out_fn, transp=False)"
   ]
  },
  {
   "cell_type": "markdown",
   "metadata": {},
   "source": [
    "Get power spectrum"
   ]
  },
  {
   "cell_type": "code",
   "execution_count": null,
   "metadata": {},
   "outputs": [],
   "source": [
    "hdr = fits.PrimaryHDU().header\n",
    "hdr['CDELT1'] = step_um\n",
    "hdr['CDELT2'] = step_um\n"
   ]
  },
  {
   "cell_type": "code",
   "execution_count": null,
   "metadata": {},
   "outputs": [],
   "source": [
    "pspec = PowerSpectrum(density_arr, header=hdr)\n",
    "pspec.run(verbose=True)"
   ]
  },
  {
   "cell_type": "code",
   "execution_count": null,
   "metadata": {},
   "outputs": [],
   "source": [
    "pspec.ps1D"
   ]
  },
  {
   "cell_type": "markdown",
   "metadata": {},
   "source": [
    "### Selenomonas"
   ]
  },
  {
   "cell_type": "markdown",
   "metadata": {},
   "source": [
    "Plot spot distribution"
   ]
  },
  {
   "cell_type": "code",
   "execution_count": null,
   "metadata": {},
   "outputs": [],
   "source": [
    "scn = 'Selenomonas'\n",
    "\n",
    "col = dict_sciname_color[scn]\n",
    "spot_size = 1\n",
    "\n",
    "res_umpix = get_resolution(dict_date_sn_fns[date][sn][0]) * 10**6\n",
    "\n",
    "xlim = (0, np.max(coords[:, 1]))\n",
    "ylim = (0, np.max(coords[:, 0]))\n",
    "\n",
    "coords_scn = coords[scinames == scn]\n",
    "\n",
    "fig, ax = plt.subplots(figsize=(10,10))\n",
    "ax.scatter(coords_scn[:,1], coords_scn[:,0], s=spot_size, color=col)\n",
    "ax.set_xlim(xlim[0], xlim[1])\n",
    "ax.set_ylim(ylim[0], ylim[1])\n",
    "ax.patch.set_color('k')\n",
    "fig.patch.set_facecolor('k')\n",
    "ax.invert_yaxis()\n",
    "ax.set_aspect('equal')\n",
    "\n",
    "plt.axis('off')\n",
    "scalebar = ScaleBar(res_umpix, 'um', frameon = False, color = 'white', box_color = 'white')\n",
    "plt.gca().add_artist(scalebar)\n",
    "\n",
    "\n",
    "spatial_dir = out_dir + '/spatial_statistics'\n",
    "cl_size_dir = spatial_dir + '/power_spectrum'\n",
    "cluster_slope_fmt = cl_size_dir + '/plots/{date}_{sn}_scinames_{scn}_scatter.pdf'\n",
    "out_fn = cluster_slope_fmt.format(date=date, sn=sn, scn=scn)\n",
    "ip.check_dir(out_fn)\n",
    "ip.save_fig(out_fn, transp=False)\n",
    "\n"
   ]
  },
  {
   "cell_type": "markdown",
   "metadata": {},
   "source": [
    "Get density plot"
   ]
  },
  {
   "cell_type": "code",
   "execution_count": null,
   "metadata": {},
   "outputs": [],
   "source": [
    "radius_um = 10\n",
    "step_um = 5\n",
    "\n",
    "step = step_um / res_umpix\n",
    "radius = radius_um / res_umpix\n",
    "xs = np.arange(xlim[0],xlim[1], step)\n",
    "ys = np.arange(ylim[0],ylim[1], step)\n",
    "\n",
    "density_arr = np.zeros((len(rs), len(cs)))\n",
    "for j, x in enumerate(xs): \n",
    "    eboolx = (\n",
    "        (x > (xlim[0] + radius)) \n",
    "        * (x < (xlim[1] - radius))\n",
    "    )\n",
    "    if eboolx:\n",
    "        for i, y in enumerate(ys):\n",
    "            ebooly = (\n",
    "                (y > (ylim[0] + radius)) \n",
    "                * (y < (ylim[1] - radius))\n",
    "            )\n",
    "            if ebooly:\n",
    "                bools = (\n",
    "                    (coords_scn[:,1] > (x - radius))\n",
    "                    * (coords_scn[:,1] < (x + radius))\n",
    "                    * (coords_scn[:,0] > (y - radius))\n",
    "                    * (coords_scn[:,0] < (y + radius))\n",
    "                )\n",
    "                density_arr[i,j] = sum(bools) / (radius_um**2)\n"
   ]
  },
  {
   "cell_type": "code",
   "execution_count": null,
   "metadata": {},
   "outputs": [],
   "source": [
    "fig, ax, cbar = plot_image(\n",
    "    density_arr, cmap='inferno', im_inches=10, cbar_ori='vertical'\n",
    ")\n",
    "plt.figure(fig)\n",
    "spatial_dir = out_dir + '/spatial_statistics'\n",
    "cl_size_dir = spatial_dir + '/power_spectrum'\n",
    "cluster_slope_fmt = cl_size_dir + '/plots/{date}_{sn}_scinames_{scn}_density.png'\n",
    "out_fn = cluster_slope_fmt.format(date=date, sn=sn, scn=scn)\n",
    "ip.check_dir(out_fn)\n",
    "ip.save_fig(out_fn, transp=False)\n",
    "\n",
    "plt.figure(cbar[0])\n",
    "cluster_slope_fmt = cl_size_dir + '/plots/{date}_{sn}_scinames_{scn}_density_cbar.pdf'\n",
    "out_fn = cluster_slope_fmt.format(date=date, sn=sn, scn=scn)\n",
    "ip.check_dir(out_fn)\n",
    "ip.save_fig(out_fn, transp=False)"
   ]
  },
  {
   "cell_type": "markdown",
   "metadata": {},
   "source": [
    "Get power spectrum"
   ]
  },
  {
   "cell_type": "code",
   "execution_count": null,
   "metadata": {},
   "outputs": [],
   "source": [
    "hdr = fits.PrimaryHDU().header\n",
    "hdr['CDELT1'] = step_um\n",
    "hdr['CDELT2'] = step_um\n"
   ]
  },
  {
   "cell_type": "code",
   "execution_count": null,
   "metadata": {},
   "outputs": [],
   "source": [
    "pspec = PowerSpectrum(density_arr, header=hdr)\n",
    "pspec.run(verbose=True)"
   ]
  },
  {
   "cell_type": "markdown",
   "metadata": {},
   "source": [
    "Gemella"
   ]
  },
  {
   "cell_type": "markdown",
   "metadata": {},
   "source": [
    "Plot spot distribution"
   ]
  },
  {
   "cell_type": "code",
   "execution_count": null,
   "metadata": {},
   "outputs": [],
   "source": [
    "scn = 'Prevotella'\n",
    "\n",
    "col = dict_sciname_color[scn]\n",
    "spot_size = 1\n",
    "\n",
    "res_umpix = get_resolution(dict_date_sn_fns[date][sn][0]) * 10**6\n",
    "\n",
    "xlim = (0, np.max(coords[:, 1]))\n",
    "ylim = (0, np.max(coords[:, 0]))\n",
    "\n",
    "coords_scn = coords[scinames == scn]\n",
    "\n",
    "fig, ax = plt.subplots(figsize=(10,10))\n",
    "ax.scatter(coords_scn[:,1], coords_scn[:,0], s=spot_size, color=col)\n",
    "ax.set_xlim(xlim[0], xlim[1])\n",
    "ax.set_ylim(ylim[0], ylim[1])\n",
    "ax.patch.set_color('k')\n",
    "fig.patch.set_facecolor('k')\n",
    "ax.invert_yaxis()\n",
    "ax.set_aspect('equal')\n",
    "\n",
    "plt.axis('off')\n",
    "scalebar = ScaleBar(res_umpix, 'um', frameon = False, color = 'white', box_color = 'white')\n",
    "plt.gca().add_artist(scalebar)\n",
    "\n"
   ]
  },
  {
   "cell_type": "markdown",
   "metadata": {},
   "source": [
    "Get density plot"
   ]
  },
  {
   "cell_type": "code",
   "execution_count": null,
   "metadata": {},
   "outputs": [],
   "source": [
    "radius_um = 10\n",
    "step_um = 5\n",
    "\n",
    "step = step_um / res_umpix\n",
    "radius = radius_um / res_umpix\n",
    "xs = np.arange(xlim[0],xlim[1], step)\n",
    "ys = np.arange(ylim[0],ylim[1], step)\n",
    "\n",
    "density_arr = np.zeros((len(rs), len(cs)))\n",
    "for j, x in enumerate(xs): \n",
    "    eboolx = (\n",
    "        (x > (xlim[0] + radius)) \n",
    "        * (x < (xlim[1] - radius))\n",
    "    )\n",
    "    if eboolx:\n",
    "        for i, y in enumerate(ys):\n",
    "            ebooly = (\n",
    "                (y > (ylim[0] + radius)) \n",
    "                * (y < (ylim[1] - radius))\n",
    "            )\n",
    "            if ebooly:\n",
    "                bools = (\n",
    "                    (coords_scn[:,1] > (x - radius))\n",
    "                    * (coords_scn[:,1] < (x + radius))\n",
    "                    * (coords_scn[:,0] > (y - radius))\n",
    "                    * (coords_scn[:,0] < (y + radius))\n",
    "                )\n",
    "                density_arr[i,j] = sum(bools) / (radius_um**2)\n"
   ]
  },
  {
   "cell_type": "code",
   "execution_count": null,
   "metadata": {},
   "outputs": [],
   "source": [
    "plot_image(density_arr, cmap='inferno', im_inches=10)"
   ]
  },
  {
   "cell_type": "markdown",
   "metadata": {},
   "source": [
    "Get power spectrum"
   ]
  },
  {
   "cell_type": "code",
   "execution_count": null,
   "metadata": {},
   "outputs": [],
   "source": [
    "hdr = fits.PrimaryHDU().header\n",
    "hdr['CDELT1'] = step_um\n",
    "hdr['CDELT2'] = step_um\n"
   ]
  },
  {
   "cell_type": "code",
   "execution_count": null,
   "metadata": {},
   "outputs": [],
   "source": [
    "pspec = PowerSpectrum(density_arr, header=hdr)\n",
    "pspec.run(verbose=True)"
   ]
  },
  {
   "cell_type": "markdown",
   "metadata": {},
   "source": [
    "### Gemella"
   ]
  },
  {
   "cell_type": "markdown",
   "metadata": {},
   "source": [
    "Plot spot distribution"
   ]
  },
  {
   "cell_type": "code",
   "execution_count": null,
   "metadata": {},
   "outputs": [],
   "source": [
    "scn = 'Gemella'\n",
    "\n",
    "col = dict_sciname_color[scn]\n",
    "spot_size = 1\n",
    "\n",
    "res_umpix = get_resolution(dict_date_sn_fns[date][sn][0]) * 10**6\n",
    "\n",
    "xlim = (0, np.max(coords[:, 1]))\n",
    "ylim = (0, np.max(coords[:, 0]))\n",
    "\n",
    "coords_scn = coords[scinames == scn]\n",
    "\n",
    "fig, ax = plt.subplots(figsize=(10,10))\n",
    "ax.scatter(coords_scn[:,1], coords_scn[:,0], s=spot_size, color=col)\n",
    "ax.set_xlim(xlim[0], xlim[1])\n",
    "ax.set_ylim(ylim[0], ylim[1])\n",
    "ax.patch.set_color('k')\n",
    "fig.patch.set_facecolor('k')\n",
    "ax.invert_yaxis()\n",
    "ax.set_aspect('equal')\n",
    "\n",
    "plt.axis('off')\n",
    "scalebar = ScaleBar(res_umpix, 'um', frameon = False, color = 'white', box_color = 'white')\n",
    "plt.gca().add_artist(scalebar)\n",
    "\n"
   ]
  },
  {
   "cell_type": "markdown",
   "metadata": {},
   "source": [
    "Get density plot"
   ]
  },
  {
   "cell_type": "code",
   "execution_count": null,
   "metadata": {},
   "outputs": [],
   "source": [
    "radius_um = 10\n",
    "step_um = 5\n",
    "\n",
    "step = step_um / res_umpix\n",
    "radius = radius_um / res_umpix\n",
    "xs = np.arange(xlim[0],xlim[1], step)\n",
    "ys = np.arange(ylim[0],ylim[1], step)\n",
    "\n",
    "density_arr = np.zeros((len(rs), len(cs)))\n",
    "for j, x in enumerate(xs): \n",
    "    eboolx = (\n",
    "        (x > (xlim[0] + radius)) \n",
    "        * (x < (xlim[1] - radius))\n",
    "    )\n",
    "    if eboolx:\n",
    "        for i, y in enumerate(ys):\n",
    "            ebooly = (\n",
    "                (y > (ylim[0] + radius)) \n",
    "                * (y < (ylim[1] - radius))\n",
    "            )\n",
    "            if ebooly:\n",
    "                bools = (\n",
    "                    (coords_scn[:,1] > (x - radius))\n",
    "                    * (coords_scn[:,1] < (x + radius))\n",
    "                    * (coords_scn[:,0] > (y - radius))\n",
    "                    * (coords_scn[:,0] < (y + radius))\n",
    "                )\n",
    "                density_arr[i,j] = sum(bools) / (radius_um**2)\n"
   ]
  },
  {
   "cell_type": "code",
   "execution_count": null,
   "metadata": {},
   "outputs": [],
   "source": [
    "plot_image(density_arr, cmap='inferno', im_inches=10)"
   ]
  },
  {
   "cell_type": "markdown",
   "metadata": {},
   "source": [
    "Get power spectrum"
   ]
  },
  {
   "cell_type": "code",
   "execution_count": null,
   "metadata": {},
   "outputs": [],
   "source": [
    "hdr = fits.PrimaryHDU().header\n",
    "hdr['CDELT1'] = step_um\n",
    "hdr['CDELT2'] = step_um\n"
   ]
  },
  {
   "cell_type": "code",
   "execution_count": null,
   "metadata": {},
   "outputs": [],
   "source": [
    "pspec = PowerSpectrum(density_arr, header=hdr)\n",
    "pspec.run(verbose=True)"
   ]
  },
  {
   "cell_type": "markdown",
   "metadata": {},
   "source": [
    "### Comopare curves"
   ]
  },
  {
   "cell_type": "code",
   "execution_count": null,
   "metadata": {},
   "outputs": [],
   "source": [
    "def get_density_arr(coords_scn, step, radius):\n",
    "    xs = np.arange(xlim[0],xlim[1], step)\n",
    "    ys = np.arange(ylim[0],ylim[1], step)\n",
    "\n",
    "    density_arr = np.zeros((len(ys), len(xs)))\n",
    "    for j, x in enumerate(xs): \n",
    "        eboolx = (\n",
    "            (x > (xlim[0] + radius)) \n",
    "            * (x < (xlim[1] - radius))\n",
    "        )\n",
    "        if eboolx:\n",
    "            for i, y in enumerate(ys):\n",
    "                ebooly = (\n",
    "                    (y > (ylim[0] + radius)) \n",
    "                    * (y < (ylim[1] - radius))\n",
    "                )\n",
    "                if ebooly:\n",
    "                    bools = (\n",
    "                        (coords_scn[:,1] > (x - radius))\n",
    "                        * (coords_scn[:,1] < (x + radius))\n",
    "                        * (coords_scn[:,0] > (y - radius))\n",
    "                        * (coords_scn[:,0] < (y + radius))\n",
    "                    )\n",
    "                    density_arr[i,j] = sum(bools) / (radius_um**2)\n",
    "    return density_arr"
   ]
  },
  {
   "cell_type": "code",
   "execution_count": null,
   "metadata": {},
   "outputs": [],
   "source": [
    "radius_um = 10\n",
    "step_um = 5\n",
    "\n",
    "res_umpix = get_resolution(dict_date_sn_fns[date][sn][0]) * 10**6\n",
    "step = step_um / res_umpix\n",
    "radius = radius_um / res_umpix\n",
    "\n",
    "xlim = (0, np.max(coords[:, 1]))\n",
    "ylim = (0, np.max(coords[:, 0]))\n",
    "\n",
    "hdr = fits.PrimaryHDU().header\n",
    "hdr['CDELT1'] = step_um\n",
    "hdr['CDELT2'] = step_um\n",
    "\n",
    "dims = (2,1.5)\n",
    "ft=6\n",
    "lw=1\n",
    "s=2\n",
    "\n",
    "fmin = 1e-2\n",
    "fmax = 1e-1\n",
    "\n",
    "fig, ax = ip.general_plot(dims=dims, ft=ft, lw=lw)\n",
    "scns = ['Veillonella','Selenomonas']\n",
    "for scn in scns:\n",
    "    # Setup\n",
    "    col = dict_sciname_color[scn]\n",
    "    coords_scn = coords[scinames == scn]\n",
    "\n",
    "    # Get density\n",
    "    density_arr = get_density_arr(coords_scn, step, radius)\n",
    "    pspec = PowerSpectrum(density_arr, header=hdr)\n",
    "    _ = pspec.run()\n",
    "\n",
    "    # Plot \n",
    "    freqs = pspec.freqs.value / step_um\n",
    "    bool_l = freqs > fmin\n",
    "    bool_u = freqs < fmax\n",
    "    freqs_clip = freqs[bool_l * bool_u]\n",
    "    ps1D_clip = pspec.ps1D[bool_l * bool_u]\n",
    "\n",
    "    ax.scatter(freqs_clip, ps1D_clip, color=col, s=s)\n",
    "\n",
    "    lnc = np.log(freqs_clip)\n",
    "    lnp = np.log(ps1D_clip)\n",
    "    slope, intercept, r_value, p_value, std_err = stats.linregress(lnc, lnp)\n",
    "\n",
    "    # intercept, slope = pspec.fit.params\n",
    "    x = np.array([fmin, fmax])\n",
    "    # x = np.array([pspec.low_cut.value, pspec.high_cut.value])\n",
    "    y = math.exp(intercept) * x**slope\n",
    "    ax.plot(x,y, color=col, lw=lw)\n",
    "    print('Slope:',slope, \"rsquared:\", pspec.fit.rsquared)    \n",
    "\n",
    "ax.set_yscale(\"log\")\n",
    "ax.set_xscale(\"log\")\n",
    "ax.set_xticks([1e-2, 1e-1], labels=[r\"$10^{2}$\", r\"$10^{1}$\"])\n",
    "\n",
    "spatial_dir = out_dir + '/spatial_statistics'\n",
    "cl_size_dir = spatial_dir + '/power_spectrum'\n",
    "cluster_slope_fmt = cl_size_dir + '/plots/{date}_{sn}_scinames_{scn0}_{scn1}_power_spectrum.pdf'\n",
    "out_fn = cluster_slope_fmt.format(date=date, sn=sn, scn0=scns[0], scn1=scns[1])\n",
    "ip.check_dir(out_fn)\n",
    "ip.save_fig(out_fn)"
   ]
  },
  {
   "cell_type": "code",
   "execution_count": null,
   "metadata": {},
   "outputs": [],
   "source": [
    "intercept\n"
   ]
  },
  {
   "cell_type": "code",
   "execution_count": null,
   "metadata": {},
   "outputs": [],
   "source": [
    "pspec.low_cut.value"
   ]
  },
  {
   "cell_type": "code",
   "execution_count": null,
   "metadata": {},
   "outputs": [],
   "source": [
    "dir(pspec)"
   ]
  },
  {
   "cell_type": "code",
   "execution_count": null,
   "metadata": {},
   "outputs": [],
   "source": [
    "pspec.fit.rsquared"
   ]
  },
  {
   "cell_type": "code",
   "execution_count": null,
   "metadata": {},
   "outputs": [],
   "source": [
    "dir(pspec.fit)"
   ]
  },
  {
   "cell_type": "code",
   "execution_count": null,
   "metadata": {},
   "outputs": [],
   "source": []
  }
 ],
 "metadata": {
  "kernelspec": {
   "display_name": "Python 3 (ipykernel)",
   "language": "python",
   "name": "python3"
  }
 },
 "nbformat": 4,
 "nbformat_minor": 2
}
