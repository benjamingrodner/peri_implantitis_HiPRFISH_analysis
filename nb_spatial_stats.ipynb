{
 "cells": [
  {
   "cell_type": "code",
   "execution_count": null,
   "metadata": {},
   "outputs": [],
   "source": [
    "out_dir = \"../outputs/segmentation_2024_03_07/{d}/{sn}\"\n",
    "out_fmt_classif = out_dir + \"/classif\"\n",
    "centroid_sciname_fmt = out_fmt_classif + \"/{sn}_centroid_sciname.csv\""
   ]
  },
  {
   "cell_type": "code",
   "execution_count": null,
   "metadata": {},
   "outputs": [],
   "source": [
    "date = \"2022_12_16\"\n",
    "sn = \"2022_12_16_harvardwelch_patient_14_tooth_14_aspect_MB_depth_sub_fov_01\"\n",
    "\n",
    "centroid_sciname_fn = centroid_sciname_fmt.format(d=date, sn=sn)\n",
    "centroid_sciname = pd.read_csv(centroid_sciname_fn)\n"
   ]
  }
 ],
 "metadata": {
  "language_info": {
   "name": "python"
  }
 },
 "nbformat": 4,
 "nbformat_minor": 2
}
