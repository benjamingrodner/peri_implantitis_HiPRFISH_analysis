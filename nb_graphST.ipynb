{
 "cells": [
  {
   "cell_type": "code",
   "execution_count": 13,
   "metadata": {},
   "outputs": [],
   "source": [
    "import os\n",
    "import torch\n",
    "import pandas as pd\n",
    "import scanpy as sc\n",
    "from sklearn import metrics\n",
    "import multiprocessing as mp\n",
    "from GraphST import GraphST\n",
    "import numpy as np\n",
    "import anndata as ad\n",
    "import scanpy as sc\n",
    "import os\n",
    "import skmisc\n",
    "from sklearn.neighbors import NearestNeighbors"
   ]
  },
  {
   "cell_type": "code",
   "execution_count": 2,
   "metadata": {},
   "outputs": [],
   "source": [
    "%load_ext autoreload\n",
    "%autoreload 2"
   ]
  },
  {
   "cell_type": "code",
   "execution_count": 3,
   "metadata": {},
   "outputs": [],
   "source": [
    "cluster = \"/fs/cbsuvlaminck2\"\n",
    "workdir = \"/workdir/bmg224/harvard_dental/manuscript/code\"\n",
    "os.chdir(cluster + workdir)\n"
   ]
  },
  {
   "cell_type": "code",
   "execution_count": 4,
   "metadata": {},
   "outputs": [
    {
     "data": {
      "text/plain": [
       "'/fs/cbsuvlaminck2/workdir/bmg224/harvard_dental/manuscript/code'"
      ]
     },
     "execution_count": 4,
     "metadata": {},
     "output_type": "execute_result"
    }
   ],
   "source": [
    "os.getcwd()"
   ]
  },
  {
   "cell_type": "code",
   "execution_count": 5,
   "metadata": {},
   "outputs": [],
   "source": [
    "out_dir = \"../outputs/segmentation_2024_03_07/{date}/{date}_{sn}\"\n",
    "out_fmt_classif = out_dir + \"/classif\"\n",
    "centroid_sciname_fmt = out_fmt_classif + \"/{date}_{sn}_centroid_sciname.csv\""
   ]
  },
  {
   "cell_type": "code",
   "execution_count": 6,
   "metadata": {},
   "outputs": [],
   "source": [
    "date = \"2023_02_08\"\n",
    "sn = \"hsdm_group_1_sample_12_fov_01\"\n",
    "\n",
    "centroid_sciname_fn = centroid_sciname_fmt.format(date=date, sn=sn)\n",
    "centroid_sciname = pd.read_csv(centroid_sciname_fn)\n",
    "coords = np.array([eval(c) for c in centroid_sciname[\"coord\"].values])\n",
    "scinames = centroid_sciname[\"sciname\"].values\n",
    "scn_unq = np.unique(scinames)"
   ]
  },
  {
   "cell_type": "markdown",
   "metadata": {},
   "source": [
    "## Build adata object"
   ]
  },
  {
   "cell_type": "markdown",
   "metadata": {},
   "source": [
    "Get feature matrix as cell identity"
   ]
  },
  {
   "cell_type": "code",
   "execution_count": 7,
   "metadata": {},
   "outputs": [],
   "source": [
    "X = []\n",
    "for scn in scinames:\n",
    "    x = np.zeros(len(scn_unq))\n",
    "    idx = np.where(scn == scn_unq)\n",
    "    x[idx] = 1\n",
    "    X.append(x)\n",
    "X = np.array(X)\n",
    "adata = ad.AnnData(X)\n",
    "adata.var_names = scn_unq"
   ]
  },
  {
   "cell_type": "code",
   "execution_count": 8,
   "metadata": {},
   "outputs": [],
   "source": [
    "adata.obsm['spatial'] = coords"
   ]
  },
  {
   "cell_type": "code",
   "execution_count": 9,
   "metadata": {},
   "outputs": [
    {
     "data": {
      "text/plain": [
       "AnnData object with n_obs × n_vars = 69665 × 8\n",
       "    obsm: 'spatial'"
      ]
     },
     "execution_count": 9,
     "metadata": {},
     "output_type": "execute_result"
    }
   ],
   "source": [
    "adata"
   ]
  },
  {
   "cell_type": "markdown",
   "metadata": {},
   "source": [
    "Get feature matrix as neighbors"
   ]
  },
  {
   "cell_type": "code",
   "execution_count": null,
   "metadata": {},
   "outputs": [],
   "source": []
  },
  {
   "cell_type": "markdown",
   "metadata": {},
   "source": [
    "## Run GraphST"
   ]
  },
  {
   "cell_type": "code",
   "execution_count": 10,
   "metadata": {},
   "outputs": [],
   "source": [
    "device = torch.device('cuda:1' if torch.cuda.is_available() else 'cpu')"
   ]
  },
  {
   "cell_type": "code",
   "execution_count": 11,
   "metadata": {},
   "outputs": [],
   "source": [
    "os.environ['R_HOME'] = '~/miniconda3/envs/GraphST/lib/R/bin/R'"
   ]
  },
  {
   "cell_type": "code",
   "execution_count": 12,
   "metadata": {},
   "outputs": [
    {
     "ename": "ValueError",
     "evalue": "b'There are other near singularities as well. 0.10808'",
     "output_type": "error",
     "traceback": [
      "\u001b[0;31m---------------------------------------------------------------------------\u001b[0m",
      "\u001b[0;31mValueError\u001b[0m                                Traceback (most recent call last)",
      "Cell \u001b[0;32mIn[12], line 1\u001b[0m\n\u001b[0;32m----> 1\u001b[0m model \u001b[38;5;241m=\u001b[39m \u001b[43mGraphST\u001b[49m\u001b[38;5;241;43m.\u001b[39;49m\u001b[43mGraphST\u001b[49m\u001b[43m(\u001b[49m\u001b[43madata\u001b[49m\u001b[43m,\u001b[49m\u001b[43m \u001b[49m\u001b[43mdevice\u001b[49m\u001b[38;5;241;43m=\u001b[39;49m\u001b[43mdevice\u001b[49m\u001b[43m)\u001b[49m\n",
      "File \u001b[0;32m~/miniconda3/envs/GraphST/lib/python3.8/site-packages/GraphST/GraphST.py:97\u001b[0m, in \u001b[0;36mGraphST.__init__\u001b[0;34m(self, adata, adata_sc, device, learning_rate, learning_rate_sc, weight_decay, epochs, dim_input, dim_output, random_seed, alpha, beta, theta, lamda1, lamda2, deconvolution, datatype)\u001b[0m\n\u001b[1;32m     94\u001b[0m fix_seed(\u001b[38;5;28mself\u001b[39m\u001b[38;5;241m.\u001b[39mrandom_seed)\n\u001b[1;32m     96\u001b[0m \u001b[38;5;28;01mif\u001b[39;00m \u001b[38;5;124m'\u001b[39m\u001b[38;5;124mhighly_variable\u001b[39m\u001b[38;5;124m'\u001b[39m \u001b[38;5;129;01mnot\u001b[39;00m \u001b[38;5;129;01min\u001b[39;00m adata\u001b[38;5;241m.\u001b[39mvar\u001b[38;5;241m.\u001b[39mkeys():\n\u001b[0;32m---> 97\u001b[0m    \u001b[43mpreprocess\u001b[49m\u001b[43m(\u001b[49m\u001b[38;5;28;43mself\u001b[39;49m\u001b[38;5;241;43m.\u001b[39;49m\u001b[43madata\u001b[49m\u001b[43m)\u001b[49m\n\u001b[1;32m     99\u001b[0m \u001b[38;5;28;01mif\u001b[39;00m \u001b[38;5;124m'\u001b[39m\u001b[38;5;124madj\u001b[39m\u001b[38;5;124m'\u001b[39m \u001b[38;5;129;01mnot\u001b[39;00m \u001b[38;5;129;01min\u001b[39;00m adata\u001b[38;5;241m.\u001b[39mobsm\u001b[38;5;241m.\u001b[39mkeys():\n\u001b[1;32m    100\u001b[0m    \u001b[38;5;28;01mif\u001b[39;00m \u001b[38;5;28mself\u001b[39m\u001b[38;5;241m.\u001b[39mdatatype \u001b[38;5;129;01min\u001b[39;00m [\u001b[38;5;124m'\u001b[39m\u001b[38;5;124mStereo\u001b[39m\u001b[38;5;124m'\u001b[39m, \u001b[38;5;124m'\u001b[39m\u001b[38;5;124mSlide\u001b[39m\u001b[38;5;124m'\u001b[39m]:\n",
      "File \u001b[0;32m~/miniconda3/envs/GraphST/lib/python3.8/site-packages/GraphST/preprocess.py:99\u001b[0m, in \u001b[0;36mpreprocess\u001b[0;34m(adata)\u001b[0m\n\u001b[1;32m     98\u001b[0m \u001b[38;5;28;01mdef\u001b[39;00m \u001b[38;5;21mpreprocess\u001b[39m(adata):\n\u001b[0;32m---> 99\u001b[0m     \u001b[43msc\u001b[49m\u001b[38;5;241;43m.\u001b[39;49m\u001b[43mpp\u001b[49m\u001b[38;5;241;43m.\u001b[39;49m\u001b[43mhighly_variable_genes\u001b[49m\u001b[43m(\u001b[49m\u001b[43madata\u001b[49m\u001b[43m,\u001b[49m\u001b[43m \u001b[49m\u001b[43mflavor\u001b[49m\u001b[38;5;241;43m=\u001b[39;49m\u001b[38;5;124;43m\"\u001b[39;49m\u001b[38;5;124;43mseurat_v3\u001b[39;49m\u001b[38;5;124;43m\"\u001b[39;49m\u001b[43m,\u001b[49m\u001b[43m \u001b[49m\u001b[43mn_top_genes\u001b[49m\u001b[38;5;241;43m=\u001b[39;49m\u001b[38;5;241;43m3000\u001b[39;49m\u001b[43m)\u001b[49m\n\u001b[1;32m    100\u001b[0m     sc\u001b[38;5;241m.\u001b[39mpp\u001b[38;5;241m.\u001b[39mnormalize_total(adata, target_sum\u001b[38;5;241m=\u001b[39m\u001b[38;5;241m1e4\u001b[39m)\n\u001b[1;32m    101\u001b[0m     sc\u001b[38;5;241m.\u001b[39mpp\u001b[38;5;241m.\u001b[39mlog1p(adata)\n",
      "File \u001b[0;32m~/miniconda3/envs/GraphST/lib/python3.8/site-packages/scanpy/preprocessing/_highly_variable_genes.py:441\u001b[0m, in \u001b[0;36mhighly_variable_genes\u001b[0;34m(adata, layer, n_top_genes, min_disp, max_disp, min_mean, max_mean, span, n_bins, flavor, subset, inplace, batch_key, check_values)\u001b[0m\n\u001b[1;32m    439\u001b[0m         sig \u001b[38;5;241m=\u001b[39m signature(_highly_variable_genes_seurat_v3)\n\u001b[1;32m    440\u001b[0m         n_top_genes \u001b[38;5;241m=\u001b[39m cast(\u001b[38;5;28mint\u001b[39m, sig\u001b[38;5;241m.\u001b[39mparameters[\u001b[38;5;124m\"\u001b[39m\u001b[38;5;124mn_top_genes\u001b[39m\u001b[38;5;124m\"\u001b[39m]\u001b[38;5;241m.\u001b[39mdefault)\n\u001b[0;32m--> 441\u001b[0m     \u001b[38;5;28;01mreturn\u001b[39;00m \u001b[43m_highly_variable_genes_seurat_v3\u001b[49m\u001b[43m(\u001b[49m\n\u001b[1;32m    442\u001b[0m \u001b[43m        \u001b[49m\u001b[43madata\u001b[49m\u001b[43m,\u001b[49m\n\u001b[1;32m    443\u001b[0m \u001b[43m        \u001b[49m\u001b[43mlayer\u001b[49m\u001b[38;5;241;43m=\u001b[39;49m\u001b[43mlayer\u001b[49m\u001b[43m,\u001b[49m\n\u001b[1;32m    444\u001b[0m \u001b[43m        \u001b[49m\u001b[43mn_top_genes\u001b[49m\u001b[38;5;241;43m=\u001b[39;49m\u001b[43mn_top_genes\u001b[49m\u001b[43m,\u001b[49m\n\u001b[1;32m    445\u001b[0m \u001b[43m        \u001b[49m\u001b[43mbatch_key\u001b[49m\u001b[38;5;241;43m=\u001b[39;49m\u001b[43mbatch_key\u001b[49m\u001b[43m,\u001b[49m\n\u001b[1;32m    446\u001b[0m \u001b[43m        \u001b[49m\u001b[43mcheck_values\u001b[49m\u001b[38;5;241;43m=\u001b[39;49m\u001b[43mcheck_values\u001b[49m\u001b[43m,\u001b[49m\n\u001b[1;32m    447\u001b[0m \u001b[43m        \u001b[49m\u001b[43mspan\u001b[49m\u001b[38;5;241;43m=\u001b[39;49m\u001b[43mspan\u001b[49m\u001b[43m,\u001b[49m\n\u001b[1;32m    448\u001b[0m \u001b[43m        \u001b[49m\u001b[43msubset\u001b[49m\u001b[38;5;241;43m=\u001b[39;49m\u001b[43msubset\u001b[49m\u001b[43m,\u001b[49m\n\u001b[1;32m    449\u001b[0m \u001b[43m        \u001b[49m\u001b[43minplace\u001b[49m\u001b[38;5;241;43m=\u001b[39;49m\u001b[43minplace\u001b[49m\u001b[43m,\u001b[49m\n\u001b[1;32m    450\u001b[0m \u001b[43m    \u001b[49m\u001b[43m)\u001b[49m\n\u001b[1;32m    452\u001b[0m \u001b[38;5;28;01mif\u001b[39;00m batch_key \u001b[38;5;129;01mis\u001b[39;00m \u001b[38;5;28;01mNone\u001b[39;00m:\n\u001b[1;32m    453\u001b[0m     df \u001b[38;5;241m=\u001b[39m _highly_variable_genes_single_batch(\n\u001b[1;32m    454\u001b[0m         adata,\n\u001b[1;32m    455\u001b[0m         layer\u001b[38;5;241m=\u001b[39mlayer,\n\u001b[0;32m   (...)\u001b[0m\n\u001b[1;32m    462\u001b[0m         flavor\u001b[38;5;241m=\u001b[39mflavor,\n\u001b[1;32m    463\u001b[0m     )\n",
      "File \u001b[0;32m~/miniconda3/envs/GraphST/lib/python3.8/site-packages/scanpy/preprocessing/_highly_variable_genes.py:87\u001b[0m, in \u001b[0;36m_highly_variable_genes_seurat_v3\u001b[0;34m(adata, layer, n_top_genes, batch_key, check_values, span, subset, inplace)\u001b[0m\n\u001b[1;32m     85\u001b[0m x \u001b[38;5;241m=\u001b[39m np\u001b[38;5;241m.\u001b[39mlog10(mean[not_const])\n\u001b[1;32m     86\u001b[0m model \u001b[38;5;241m=\u001b[39m loess(x, y, span\u001b[38;5;241m=\u001b[39mspan, degree\u001b[38;5;241m=\u001b[39m\u001b[38;5;241m2\u001b[39m)\n\u001b[0;32m---> 87\u001b[0m \u001b[43mmodel\u001b[49m\u001b[38;5;241;43m.\u001b[39;49m\u001b[43mfit\u001b[49m\u001b[43m(\u001b[49m\u001b[43m)\u001b[49m\n\u001b[1;32m     88\u001b[0m estimat_var[not_const] \u001b[38;5;241m=\u001b[39m model\u001b[38;5;241m.\u001b[39moutputs\u001b[38;5;241m.\u001b[39mfitted_values\n\u001b[1;32m     89\u001b[0m reg_std \u001b[38;5;241m=\u001b[39m np\u001b[38;5;241m.\u001b[39msqrt(\u001b[38;5;241m10\u001b[39m\u001b[38;5;241m*\u001b[39m\u001b[38;5;241m*\u001b[39mestimat_var)\n",
      "File \u001b[0;32m_loess.pyx:899\u001b[0m, in \u001b[0;36m_loess.loess.fit\u001b[0;34m()\u001b[0m\n",
      "\u001b[0;31mValueError\u001b[0m: b'There are other near singularities as well. 0.10808'"
     ]
    }
   ],
   "source": [
    "model = GraphST.GraphST(adata, device=device)"
   ]
  },
  {
   "cell_type": "code",
   "execution_count": null,
   "metadata": {},
   "outputs": [],
   "source": []
  }
 ],
 "metadata": {
  "kernelspec": {
   "display_name": "Python 3 (ipykernel)",
   "language": "python",
   "name": "python3"
  },
  "language_info": {
   "codemirror_mode": {
    "name": "ipython",
    "version": 3
   },
   "file_extension": ".py",
   "mimetype": "text/x-python",
   "name": "python",
   "nbconvert_exporter": "python",
   "pygments_lexer": "ipython3",
   "version": "3.8.19"
  }
 },
 "nbformat": 4,
 "nbformat_minor": 2
}
